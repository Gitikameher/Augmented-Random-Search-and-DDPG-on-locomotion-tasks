{
  "nbformat": 4,
  "nbformat_minor": 0,
  "metadata": {
    "colab": {
      "name": "DDPG.ipynb",
      "version": "0.3.2",
      "provenance": [],
      "collapsed_sections": []
    },
    "kernelspec": {
      "name": "python3",
      "display_name": "Python 3"
    }
  },
  "cells": [
    {
      "cell_type": "code",
      "metadata": {
        "id": "QDraMWRfF3O7",
        "colab_type": "code",
        "outputId": "656250ef-36de-4c98-ccac-2e64eb91370f",
        "colab": {
          "base_uri": "https://localhost:8080/",
          "height": 188
        }
      },
      "source": [
        "!pip install pybullet\n"
      ],
      "execution_count": 0,
      "outputs": [
        {
          "output_type": "stream",
          "text": [
            "Collecting pybullet\n",
            "\u001b[?25l  Downloading https://files.pythonhosted.org/packages/74/51/1417df166e39c7c7caef6582d3695136008e2e0420da38088289686635cf/pybullet-2.5.0.tar.gz (47.4MB)\n",
            "\u001b[K     |████████████████████████████████| 47.4MB 1.1MB/s \n",
            "\u001b[?25hBuilding wheels for collected packages: pybullet\n",
            "  Building wheel for pybullet (setup.py) ... \u001b[?25l\u001b[?25hdone\n",
            "  Stored in directory: /root/.cache/pip/wheels/0b/cf/c0/94af8f5460286129b176b5c3814156c0cfb4d18a47d9cc4d6b\n",
            "Successfully built pybullet\n",
            "Installing collected packages: pybullet\n",
            "Successfully installed pybullet-2.5.0\n"
          ],
          "name": "stdout"
        }
      ]
    },
    {
      "cell_type": "code",
      "metadata": {
        "id": "FK2ZbaDSGET4",
        "colab_type": "code",
        "outputId": "2adc5faa-0959-4761-eb64-001e5a49d053",
        "colab": {
          "base_uri": "https://localhost:8080/",
          "height": 2255
        }
      },
      "source": [
        "import numpy as np\n",
        "import torch\n",
        "import gym\n",
        "import argparse\n",
        "import os\n",
        "\n",
        "import utils\n",
        "import DDPG\n",
        "import pybullet_envs\n",
        "\n",
        "# Runs policy for X episodes and returns average reward\n",
        "def evaluate_policy(policy, eval_episodes=10):\n",
        "\tavg_reward = 0.\n",
        "\tfor _ in range(eval_episodes):\n",
        "\t\tobs = env.reset()\n",
        "\t\tdone = False\n",
        "\t\twhile not done:\n",
        "\t\t\taction = policy.select_action(np.array(obs))\n",
        "\t\t\tobs, reward, done, _ = env.step(action)\n",
        "\t\t\tavg_reward += reward\n",
        "\n",
        "\tavg_reward /= eval_episodes\n",
        "\n",
        "\n",
        "if __name__ == \"__main__\":\n",
        "  #env=gym.make('InvertedPendulumBulletEnv-v0')\n",
        "\t#env = gym.make('HalfCheetahBulletEnv-v0')\n",
        "  env = gym.make('HumanoidBulletEnv-v0')\n",
        "  env = gym.make('AntBulletEnv-v0')\n",
        "\n",
        "\t# Set seeds\n",
        "  env.seed(0)\n",
        "  torch.manual_seed(0)\n",
        "  np.random.seed(0)\n",
        "\t\n",
        "  reward_plot=[]\n",
        "  state_dim = env.observation_space.shape[0]\n",
        "  action_dim = env.action_space.shape[0] \n",
        "  max_action = float(env.action_space.high[0])\n",
        "\n",
        "\t# Initialize policy\n",
        "\n",
        "  policy = DDPG.DDPG(state_dim, action_dim, max_action)\n",
        "\n",
        "  replay_buffer = utils.ReplayBuffer()\n",
        "\t\n",
        "\t# Evaluate untrained policy\n",
        "  evaluations = [evaluate_policy(policy)] \n",
        "\n",
        "  total_timesteps = 0\n",
        "  timesteps_since_eval = 0\n",
        "  episode_num = 0\n",
        "  episode_reward = 0\n",
        "  episode_timesteps = 0\n",
        "  done = True \n",
        "\n",
        "  while total_timesteps <1e6:\n",
        "\t\t\n",
        "    if done: \n",
        "\n",
        "      if total_timesteps != 0: \n",
        "        reward_plot.append(episode_reward)\n",
        "        print((\"Total T: %d Episode Num: %d Episode T: %d Reward: %f\") % (total_timesteps, episode_num, episode_timesteps, episode_reward))\n",
        "        \n",
        "        policy.train(replay_buffer, episode_timesteps, 100, 0.99, 0.005)\n",
        "\t\t\t\n",
        "\t\t\t# Evaluate episode\n",
        "      if timesteps_since_eval >= 5e3:\n",
        "        timesteps_since_eval %= 5e3\n",
        "        evaluations.append(evaluate_policy(policy))\n",
        "\t\t\t\t\n",
        "        policy.save('a3c-cheetah', directory=\"./pytorch_models\")\n",
        "        np.save(\"./results/%s\" % ('a3c-cheetah'), evaluations) \n",
        "\t\t\t\n",
        "\t\t\t# Reset environment\n",
        "      obs = env.reset()\n",
        "      done = False\n",
        "      episode_reward = 0\n",
        "      episode_timesteps = 0\n",
        "      episode_num += 1 \n",
        "\t\t\n",
        "\t\t# Select action randomly or according to policy\n",
        "    if total_timesteps < 1e4:\n",
        "      action = env.action_space.sample()\n",
        "    else:\n",
        "      action = policy.select_action(np.array(obs))\n",
        "    if 0.1 != 0: \n",
        "      action = (action + np.random.normal(0, 0.1, size=env.action_space.shape[0])).clip(env.action_space.low, env.action_space.high)\n",
        "\n",
        "\t\t# Perform action\n",
        "    new_obs, reward, done, _ = env.step(action) \n",
        "    done_bool = 0 if episode_timesteps + 1 == env._max_episode_steps else float(done)\n",
        "    episode_reward += reward\n",
        "\n",
        "\t\t# Store data in replay buffer\n",
        "    replay_buffer.add((obs, new_obs, action, reward, done_bool))\n",
        "\n",
        "    obs = new_obs\n",
        "\n",
        "    episode_timesteps += 1\n",
        "    total_timesteps += 1\n",
        "    timesteps_since_eval += 1\n",
        "\t\t\n",
        "\t# Final evaluation \n",
        "  evaluations.append(evaluate_policy(policy))\n",
        "  policy.save(\"%s\" % ('a3c-cheetah'), directory=\"./pytorch_models\")\n",
        "  np.save(\"./results/%s\" % ('a3c-cheetah'), evaluations)  \n"
      ],
      "execution_count": 0,
      "outputs": [
        {
          "output_type": "stream",
          "text": [
            "/usr/local/lib/python3.6/dist-packages/gym/logger.py:30: UserWarning: \u001b[33mWARN: gym.spaces.Box autodetected dtype as <class 'numpy.float32'>. Please provide explicit dtype.\u001b[0m\n",
            "  warnings.warn(colorize('%s: %s'%('WARN', msg % args), 'yellow'))\n"
          ],
          "name": "stderr"
        },
        {
          "output_type": "stream",
          "text": [
            "Total T: 1000 Episode Num: 1 Episode T: 1000 Reward: 497.277382\n",
            "Total T: 1135 Episode Num: 2 Episode T: 135 Reward: 60.477311\n",
            "Total T: 2135 Episode Num: 3 Episode T: 1000 Reward: 494.893363\n",
            "Total T: 3135 Episode Num: 4 Episode T: 1000 Reward: 501.062225\n",
            "Total T: 4135 Episode Num: 5 Episode T: 1000 Reward: 511.345007\n",
            "Total T: 5135 Episode Num: 6 Episode T: 1000 Reward: 506.337183\n",
            "Total T: 6135 Episode Num: 7 Episode T: 1000 Reward: 493.774270\n",
            "Total T: 7135 Episode Num: 8 Episode T: 1000 Reward: 471.670816\n",
            "Total T: 8135 Episode Num: 9 Episode T: 1000 Reward: 478.790549\n",
            "Total T: 8155 Episode Num: 10 Episode T: 20 Reward: 1.729655\n",
            "Total T: 8720 Episode Num: 11 Episode T: 565 Reward: 261.714431\n",
            "Total T: 9720 Episode Num: 12 Episode T: 1000 Reward: 514.094665\n",
            "Total T: 10720 Episode Num: 13 Episode T: 1000 Reward: 576.311055\n",
            "Total T: 11720 Episode Num: 14 Episode T: 1000 Reward: 86.877565\n",
            "Total T: 12720 Episode Num: 15 Episode T: 1000 Reward: 88.768439\n",
            "Total T: 13720 Episode Num: 16 Episode T: 1000 Reward: 88.887872\n",
            "Total T: 14720 Episode Num: 17 Episode T: 1000 Reward: 145.051399\n",
            "Total T: 15720 Episode Num: 18 Episode T: 1000 Reward: 112.254053\n",
            "Total T: 16720 Episode Num: 19 Episode T: 1000 Reward: 91.729135\n",
            "Total T: 17720 Episode Num: 20 Episode T: 1000 Reward: 116.190712\n",
            "Total T: 18720 Episode Num: 21 Episode T: 1000 Reward: 93.617045\n",
            "Total T: 19720 Episode Num: 22 Episode T: 1000 Reward: 84.288251\n",
            "Total T: 20720 Episode Num: 23 Episode T: 1000 Reward: 82.191080\n",
            "Total T: 21720 Episode Num: 24 Episode T: 1000 Reward: 83.126226\n",
            "Total T: 22720 Episode Num: 25 Episode T: 1000 Reward: 79.065202\n",
            "Total T: 22740 Episode Num: 26 Episode T: 20 Reward: -1.865011\n",
            "Total T: 22760 Episode Num: 27 Episode T: 20 Reward: -2.377724\n",
            "Total T: 22780 Episode Num: 28 Episode T: 20 Reward: -1.864213\n",
            "Total T: 22800 Episode Num: 29 Episode T: 20 Reward: -1.831712\n",
            "Total T: 22820 Episode Num: 30 Episode T: 20 Reward: -3.819001\n",
            "Total T: 22840 Episode Num: 31 Episode T: 20 Reward: -3.352909\n",
            "Total T: 22860 Episode Num: 32 Episode T: 20 Reward: -2.040995\n",
            "Total T: 22880 Episode Num: 33 Episode T: 20 Reward: -1.604645\n",
            "Total T: 22900 Episode Num: 34 Episode T: 20 Reward: -2.633318\n",
            "Total T: 22920 Episode Num: 35 Episode T: 20 Reward: -1.561108\n",
            "Total T: 22940 Episode Num: 36 Episode T: 20 Reward: -1.924818\n",
            "Total T: 22960 Episode Num: 37 Episode T: 20 Reward: -1.409562\n",
            "Total T: 22980 Episode Num: 38 Episode T: 20 Reward: -2.291291\n",
            "Total T: 23000 Episode Num: 39 Episode T: 20 Reward: -1.429448\n",
            "Total T: 23020 Episode Num: 40 Episode T: 20 Reward: -4.101585\n",
            "Total T: 23040 Episode Num: 41 Episode T: 20 Reward: -2.215797\n",
            "Total T: 23060 Episode Num: 42 Episode T: 20 Reward: -2.273331\n",
            "Total T: 23080 Episode Num: 43 Episode T: 20 Reward: -1.478714\n",
            "Total T: 23100 Episode Num: 44 Episode T: 20 Reward: -1.555891\n",
            "Total T: 23120 Episode Num: 45 Episode T: 20 Reward: 0.155517\n",
            "Total T: 23140 Episode Num: 46 Episode T: 20 Reward: -0.230453\n",
            "Total T: 23160 Episode Num: 47 Episode T: 20 Reward: -0.572825\n",
            "Total T: 23180 Episode Num: 48 Episode T: 20 Reward: -1.583332\n",
            "Total T: 23200 Episode Num: 49 Episode T: 20 Reward: -1.254869\n",
            "Total T: 23223 Episode Num: 50 Episode T: 23 Reward: -5.984542\n",
            "Total T: 23250 Episode Num: 51 Episode T: 27 Reward: -12.072863\n",
            "Total T: 24250 Episode Num: 52 Episode T: 1000 Reward: 115.686818\n",
            "Total T: 25250 Episode Num: 53 Episode T: 1000 Reward: 87.917468\n",
            "Total T: 26250 Episode Num: 54 Episode T: 1000 Reward: 82.729871\n",
            "Total T: 27250 Episode Num: 55 Episode T: 1000 Reward: 73.819517\n",
            "Total T: 28250 Episode Num: 56 Episode T: 1000 Reward: 90.336138\n",
            "Total T: 29250 Episode Num: 57 Episode T: 1000 Reward: 90.950662\n",
            "Total T: 30250 Episode Num: 58 Episode T: 1000 Reward: 84.152337\n",
            "Total T: 31250 Episode Num: 59 Episode T: 1000 Reward: 97.979144\n",
            "Total T: 32250 Episode Num: 60 Episode T: 1000 Reward: 88.075110\n",
            "Total T: 33250 Episode Num: 61 Episode T: 1000 Reward: 89.485319\n",
            "Total T: 34250 Episode Num: 62 Episode T: 1000 Reward: 85.979162\n",
            "Total T: 35250 Episode Num: 63 Episode T: 1000 Reward: 80.270828\n",
            "Total T: 36250 Episode Num: 64 Episode T: 1000 Reward: 117.007733\n",
            "Total T: 37250 Episode Num: 65 Episode T: 1000 Reward: 146.961238\n",
            "Total T: 38250 Episode Num: 66 Episode T: 1000 Reward: 153.933612\n",
            "Total T: 39250 Episode Num: 67 Episode T: 1000 Reward: 124.467810\n",
            "Total T: 40250 Episode Num: 68 Episode T: 1000 Reward: 103.915598\n",
            "Total T: 41250 Episode Num: 69 Episode T: 1000 Reward: 295.691009\n",
            "Total T: 42250 Episode Num: 70 Episode T: 1000 Reward: 209.605180\n",
            "Total T: 43250 Episode Num: 71 Episode T: 1000 Reward: 80.568002\n",
            "Total T: 44250 Episode Num: 72 Episode T: 1000 Reward: 89.091890\n",
            "Total T: 45250 Episode Num: 73 Episode T: 1000 Reward: 86.727721\n",
            "Total T: 46250 Episode Num: 74 Episode T: 1000 Reward: 149.151680\n",
            "Total T: 47250 Episode Num: 75 Episode T: 1000 Reward: 191.208891\n",
            "Total T: 48250 Episode Num: 76 Episode T: 1000 Reward: 82.059215\n",
            "Total T: 49250 Episode Num: 77 Episode T: 1000 Reward: 90.999060\n",
            "Total T: 50250 Episode Num: 78 Episode T: 1000 Reward: 241.195824\n",
            "Total T: 51250 Episode Num: 79 Episode T: 1000 Reward: 84.498925\n",
            "Total T: 52250 Episode Num: 80 Episode T: 1000 Reward: 194.923797\n",
            "Total T: 53250 Episode Num: 81 Episode T: 1000 Reward: 148.133523\n",
            "Total T: 54250 Episode Num: 82 Episode T: 1000 Reward: 87.981175\n",
            "Total T: 55250 Episode Num: 83 Episode T: 1000 Reward: 96.086813\n",
            "Total T: 56250 Episode Num: 84 Episode T: 1000 Reward: 80.834656\n",
            "Total T: 57250 Episode Num: 85 Episode T: 1000 Reward: 81.955826\n",
            "Total T: 58250 Episode Num: 86 Episode T: 1000 Reward: 90.318106\n",
            "Total T: 59250 Episode Num: 87 Episode T: 1000 Reward: 91.217048\n",
            "Total T: 60250 Episode Num: 88 Episode T: 1000 Reward: 86.269534\n",
            "Total T: 61250 Episode Num: 89 Episode T: 1000 Reward: 89.298623\n",
            "Total T: 62250 Episode Num: 90 Episode T: 1000 Reward: 95.792883\n",
            "Total T: 63250 Episode Num: 91 Episode T: 1000 Reward: 87.201901\n",
            "Total T: 64250 Episode Num: 92 Episode T: 1000 Reward: 91.713795\n",
            "Total T: 65250 Episode Num: 93 Episode T: 1000 Reward: 94.002257\n",
            "Total T: 66250 Episode Num: 94 Episode T: 1000 Reward: 193.353111\n",
            "Total T: 67250 Episode Num: 95 Episode T: 1000 Reward: 196.860416\n",
            "Total T: 68250 Episode Num: 96 Episode T: 1000 Reward: 182.378292\n",
            "Total T: 69250 Episode Num: 97 Episode T: 1000 Reward: 96.531425\n",
            "Total T: 70250 Episode Num: 98 Episode T: 1000 Reward: 191.691053\n",
            "Total T: 71250 Episode Num: 99 Episode T: 1000 Reward: 179.541054\n",
            "Total T: 72250 Episode Num: 100 Episode T: 1000 Reward: 191.287390\n",
            "Total T: 73250 Episode Num: 101 Episode T: 1000 Reward: 196.044211\n",
            "Total T: 74250 Episode Num: 102 Episode T: 1000 Reward: 195.017610\n",
            "Total T: 75250 Episode Num: 103 Episode T: 1000 Reward: 194.482204\n",
            "Total T: 76250 Episode Num: 104 Episode T: 1000 Reward: 194.685791\n",
            "Total T: 77250 Episode Num: 105 Episode T: 1000 Reward: 191.923470\n",
            "Total T: 78250 Episode Num: 106 Episode T: 1000 Reward: 189.458630\n",
            "Total T: 79250 Episode Num: 107 Episode T: 1000 Reward: 193.218972\n",
            "Total T: 80250 Episode Num: 108 Episode T: 1000 Reward: 189.502280\n",
            "Total T: 81250 Episode Num: 109 Episode T: 1000 Reward: 199.195554\n"
          ],
          "name": "stdout"
        },
        {
          "output_type": "error",
          "ename": "KeyboardInterrupt",
          "evalue": "ignored",
          "traceback": [
            "\u001b[0;31m---------------------------------------------------------------------------\u001b[0m",
            "\u001b[0;31mKeyboardInterrupt\u001b[0m                         Traceback (most recent call last)",
            "\u001b[0;32m<ipython-input-5-527f73d9e69e>\u001b[0m in \u001b[0;36m<module>\u001b[0;34m()\u001b[0m\n\u001b[1;32m     63\u001b[0m         \u001b[0mprint\u001b[0m\u001b[0;34m(\u001b[0m\u001b[0;34m(\u001b[0m\u001b[0;34m\"Total T: %d Episode Num: %d Episode T: %d Reward: %f\"\u001b[0m\u001b[0;34m)\u001b[0m \u001b[0;34m%\u001b[0m \u001b[0;34m(\u001b[0m\u001b[0mtotal_timesteps\u001b[0m\u001b[0;34m,\u001b[0m \u001b[0mepisode_num\u001b[0m\u001b[0;34m,\u001b[0m \u001b[0mepisode_timesteps\u001b[0m\u001b[0;34m,\u001b[0m \u001b[0mepisode_reward\u001b[0m\u001b[0;34m)\u001b[0m\u001b[0;34m)\u001b[0m\u001b[0;34m\u001b[0m\u001b[0;34m\u001b[0m\u001b[0m\n\u001b[1;32m     64\u001b[0m \u001b[0;34m\u001b[0m\u001b[0m\n\u001b[0;32m---> 65\u001b[0;31m         \u001b[0mpolicy\u001b[0m\u001b[0;34m.\u001b[0m\u001b[0mtrain\u001b[0m\u001b[0;34m(\u001b[0m\u001b[0mreplay_buffer\u001b[0m\u001b[0;34m,\u001b[0m \u001b[0mepisode_timesteps\u001b[0m\u001b[0;34m,\u001b[0m \u001b[0;36m100\u001b[0m\u001b[0;34m,\u001b[0m \u001b[0;36m0.99\u001b[0m\u001b[0;34m,\u001b[0m \u001b[0;36m0.005\u001b[0m\u001b[0;34m)\u001b[0m\u001b[0;34m\u001b[0m\u001b[0;34m\u001b[0m\u001b[0m\n\u001b[0m\u001b[1;32m     66\u001b[0m \u001b[0;34m\u001b[0m\u001b[0m\n\u001b[1;32m     67\u001b[0m                         \u001b[0;31m# Evaluate episode\u001b[0m\u001b[0;34m\u001b[0m\u001b[0;34m\u001b[0m\u001b[0;34m\u001b[0m\u001b[0m\n",
            "\u001b[0;32m/content/DDPG.py\u001b[0m in \u001b[0;36mtrain\u001b[0;34m(self, replay_buffer, iterations, batch_size, discount, tau)\u001b[0m\n\u001b[1;32m     89\u001b[0m                         \u001b[0;31m# Optimize the critic\u001b[0m\u001b[0;34m\u001b[0m\u001b[0;34m\u001b[0m\u001b[0;34m\u001b[0m\u001b[0m\n\u001b[1;32m     90\u001b[0m                         \u001b[0mself\u001b[0m\u001b[0;34m.\u001b[0m\u001b[0mcritic_optimizer\u001b[0m\u001b[0;34m.\u001b[0m\u001b[0mzero_grad\u001b[0m\u001b[0;34m(\u001b[0m\u001b[0;34m)\u001b[0m\u001b[0;34m\u001b[0m\u001b[0;34m\u001b[0m\u001b[0m\n\u001b[0;32m---> 91\u001b[0;31m                         \u001b[0mcritic_loss\u001b[0m\u001b[0;34m.\u001b[0m\u001b[0mbackward\u001b[0m\u001b[0;34m(\u001b[0m\u001b[0;34m)\u001b[0m\u001b[0;34m\u001b[0m\u001b[0;34m\u001b[0m\u001b[0m\n\u001b[0m\u001b[1;32m     92\u001b[0m                         \u001b[0mself\u001b[0m\u001b[0;34m.\u001b[0m\u001b[0mcritic_optimizer\u001b[0m\u001b[0;34m.\u001b[0m\u001b[0mstep\u001b[0m\u001b[0;34m(\u001b[0m\u001b[0;34m)\u001b[0m\u001b[0;34m\u001b[0m\u001b[0;34m\u001b[0m\u001b[0m\n\u001b[1;32m     93\u001b[0m \u001b[0;34m\u001b[0m\u001b[0m\n",
            "\u001b[0;32m/usr/local/lib/python3.6/dist-packages/torch/tensor.py\u001b[0m in \u001b[0;36mbackward\u001b[0;34m(self, gradient, retain_graph, create_graph)\u001b[0m\n\u001b[1;32m    105\u001b[0m                 \u001b[0mproducts\u001b[0m\u001b[0;34m.\u001b[0m \u001b[0mDefaults\u001b[0m \u001b[0mto\u001b[0m\u001b[0;31m \u001b[0m\u001b[0;31m`\u001b[0m\u001b[0;31m`\u001b[0m\u001b[0;32mFalse\u001b[0m\u001b[0;31m`\u001b[0m\u001b[0;31m`\u001b[0m\u001b[0;34m.\u001b[0m\u001b[0;34m\u001b[0m\u001b[0;34m\u001b[0m\u001b[0m\n\u001b[1;32m    106\u001b[0m         \"\"\"\n\u001b[0;32m--> 107\u001b[0;31m         \u001b[0mtorch\u001b[0m\u001b[0;34m.\u001b[0m\u001b[0mautograd\u001b[0m\u001b[0;34m.\u001b[0m\u001b[0mbackward\u001b[0m\u001b[0;34m(\u001b[0m\u001b[0mself\u001b[0m\u001b[0;34m,\u001b[0m \u001b[0mgradient\u001b[0m\u001b[0;34m,\u001b[0m \u001b[0mretain_graph\u001b[0m\u001b[0;34m,\u001b[0m \u001b[0mcreate_graph\u001b[0m\u001b[0;34m)\u001b[0m\u001b[0;34m\u001b[0m\u001b[0;34m\u001b[0m\u001b[0m\n\u001b[0m\u001b[1;32m    108\u001b[0m \u001b[0;34m\u001b[0m\u001b[0m\n\u001b[1;32m    109\u001b[0m     \u001b[0;32mdef\u001b[0m \u001b[0mregister_hook\u001b[0m\u001b[0;34m(\u001b[0m\u001b[0mself\u001b[0m\u001b[0;34m,\u001b[0m \u001b[0mhook\u001b[0m\u001b[0;34m)\u001b[0m\u001b[0;34m:\u001b[0m\u001b[0;34m\u001b[0m\u001b[0;34m\u001b[0m\u001b[0m\n",
            "\u001b[0;32m/usr/local/lib/python3.6/dist-packages/torch/autograd/__init__.py\u001b[0m in \u001b[0;36mbackward\u001b[0;34m(tensors, grad_tensors, retain_graph, create_graph, grad_variables)\u001b[0m\n\u001b[1;32m     91\u001b[0m     Variable._execution_engine.run_backward(\n\u001b[1;32m     92\u001b[0m         \u001b[0mtensors\u001b[0m\u001b[0;34m,\u001b[0m \u001b[0mgrad_tensors\u001b[0m\u001b[0;34m,\u001b[0m \u001b[0mretain_graph\u001b[0m\u001b[0;34m,\u001b[0m \u001b[0mcreate_graph\u001b[0m\u001b[0;34m,\u001b[0m\u001b[0;34m\u001b[0m\u001b[0;34m\u001b[0m\u001b[0m\n\u001b[0;32m---> 93\u001b[0;31m         allow_unreachable=True)  # allow_unreachable flag\n\u001b[0m\u001b[1;32m     94\u001b[0m \u001b[0;34m\u001b[0m\u001b[0m\n\u001b[1;32m     95\u001b[0m \u001b[0;34m\u001b[0m\u001b[0m\n",
            "\u001b[0;31mKeyboardInterrupt\u001b[0m: "
          ]
        }
      ]
    },
    {
      "cell_type": "markdown",
      "metadata": {
        "id": "efNuhfRJl3Bd",
        "colab_type": "text"
      },
      "source": [
        ""
      ]
    },
    {
      "cell_type": "code",
      "metadata": {
        "id": "qG04h4xfvdfF",
        "colab_type": "code",
        "outputId": "1d9c82fc-6fd9-4b27-a3b1-2a96f43f4524",
        "colab": {
          "base_uri": "https://localhost:8080/",
          "height": 283
        }
      },
      "source": [
        "import matplotlib.pyplot as plt\n",
        "fig = plt.figure()\n",
        "ax = plt.subplot(111)\n",
        "ax.plot(np.arange(1,110),reward_plot,label='DDPG')\n",
        "plt.ylabel('Reward')\n",
        "plt.xlabel('Step')\n",
        "ax.legend()\n",
        "plt.show()"
      ],
      "execution_count": 0,
      "outputs": [
        {
          "output_type": "display_data",
          "data": {
            "image/png": "[encoded data removed]",
            "text/plain": [
              "<Figure size 432x288 with 1 Axes>"
            ]
          },
          "metadata": {
            "tags": []
          }
        }
      ]
    },
    {
      "cell_type": "code",
      "metadata": {
        "id": "_G_0h5WmEiob",
        "colab_type": "code",
        "colab": {}
      },
      "source": [
        "!mkdir results"
      ],
      "execution_count": 0,
      "outputs": []
    },
    {
      "cell_type": "code",
      "metadata": {
        "id": "Kvrpm6MQeJ_h",
        "colab_type": "code",
        "colab": {}
      },
      "source": [
        ""
      ],
      "execution_count": 0,
      "outputs": []
    }
  ]
}